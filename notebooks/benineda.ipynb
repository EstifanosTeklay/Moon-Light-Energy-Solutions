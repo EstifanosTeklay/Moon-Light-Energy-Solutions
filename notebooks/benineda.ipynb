{
 "cells": [
  {
   "cell_type": "code",
   "execution_count": null,
   "metadata": {},
   "outputs": [],
   "source": [
    "# Required Libraries\n",
    "import pandas as pd\n",
    "import numpy as np\n",
    "import seaborn as sns\n",
    "import matplotlib.pyplot as plt\n",
    "from scipy.stats import zscore\n",
    "\n",
    "# Load Data\n",
    "df = pd.read_csv(\"your_dataset.csv\", parse_dates=[\"Timestamp\"])\n",
    "\n",
    "# 1. Summary Statistics\n",
    "summary_stats = df.describe()\n",
    "print(\"Summary Statistics:\\n\", summary_stats)\n",
    "\n",
    "# 2. Data Quality Check\n",
    "# Missing Values\n",
    "missing_values = df.isnull().sum()\n",
    "print(\"Missing Values per Column:\\n\", missing_values)\n",
    "\n",
    "# Outliers - Checking for Negative Values where not expected (e.g., GHI, DNI, DHI)\n",
    "invalid_data = df[(df['GHI'] < 0) | (df['DNI'] < 0) | (df['DHI'] < 0)]\n",
    "print(\"Rows with Invalid Data:\\n\", invalid_data)\n",
    "\n",
    "# Boxplot to check for outliers in specific columns\n",
    "plt.figure(figsize=(10, 6))\n",
    "sns.boxplot(data=df[['ModA', 'ModB', 'WS', 'WSgust']])\n",
    "plt.title('Boxplot of Sensor Readings and Wind Speeds')\n",
    "plt.show()"
   ]
  }
 ],
 "metadata": {
  "language_info": {
   "name": "python"
  }
 },
 "nbformat": 4,
 "nbformat_minor": 2
}
